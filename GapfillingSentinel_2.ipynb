{
  "nbformat": 4,
  "nbformat_minor": 0,
  "metadata": {
    "colab": {
      "name": "GapfillingSentinel-2.ipynb",
      "provenance": [],
      "authorship_tag": "ABX9TyMxQ8pfAEoOuTCkFSUOaiOn",
      "include_colab_link": true
    },
    "kernelspec": {
      "name": "python3",
      "display_name": "Python 3"
    },
    "language_info": {
      "name": "python"
    }
  },
  "cells": [
    {
      "cell_type": "markdown",
      "metadata": {
        "id": "view-in-github",
        "colab_type": "text"
      },
      "source": [
        "<a href=\"https://colab.research.google.com/github/lewirbi/GapfillingSentinel-2/blob/main/GapfillingSentinel_2.ipynb\" target=\"_parent\"><img src=\"https://colab.research.google.com/assets/colab-badge.svg\" alt=\"Open In Colab\"/></a>"
      ]
    },
    {
      "cell_type": "code",
      "metadata": {
        "id": "xKuhsuOBGrCp"
      },
      "source": [
        "#@title Copyright 2021 Wirba P. Berinyuy { display-mode: \"form\" }\n",
        "#\n",
        "# Licensed under the Apache License, Version 2.0 (the \"License\");\n",
        "# you may not use this file except in compliance with the License.\n",
        "# You may obtain a copy of the License at\n",
        "#\n",
        "# https://www.apache.org/licenses/LICENSE-2.0\n",
        "#\n",
        "# Unless required by applicable law or agreed to in writing, software\n",
        "# distributed under the License is distributed on an \"AS IS\" BASIS,\n",
        "# WITHOUT WARRANTIES OR CONDITIONS OF ANY KIND, either express or implied.\n",
        "# See the License for the specific language governing permissions and\n",
        "# limitations under the License."
      ],
      "execution_count": 1,
      "outputs": []
    },
    {
      "cell_type": "markdown",
      "metadata": {
        "id": "AORmlnIF9h4U"
      },
      "source": [
        "# **Image Time Series Gapfilling on Sentinel-2 Using s2cloudless**"
      ]
    },
    {
      "cell_type": "markdown",
      "metadata": {
        "id": "guxJqsJd-cwm"
      },
      "source": [
        "**Initialize the Earth Engine API**"
      ]
    },
    {
      "cell_type": "markdown",
      "metadata": {
        "id": "GlcX7WXjHfii"
      },
      "source": [
        ""
      ]
    },
    {
      "cell_type": "code",
      "metadata": {
        "id": "9nsje6OW9e7W"
      },
      "source": [
        "import ee\n",
        "\n",
        "# Trigger the authentication flow.\n",
        "ee.Authenticate()\n",
        "\n",
        "# Initialize the library.\n",
        "ee.Initialize()"
      ],
      "execution_count": null,
      "outputs": []
    },
    {
      "cell_type": "markdown",
      "metadata": {
        "id": "48MAINLV-mOf"
      },
      "source": [
        "build an S2 SR collection and defines functions to add cloud and cloud shadow component layers to each image in the collection."
      ]
    },
    {
      "cell_type": "markdown",
      "metadata": {
        "id": "foQfqvwZ_O7o"
      },
      "source": [
        "The values currently set for AOI, START_DATE, END_DATE, and CLOUD_FILTER are intended to build a collection for a single S2 overpass of a region "
      ]
    },
    {
      "cell_type": "code",
      "metadata": {
        "id": "b6Z3VSZq-0ll"
      },
      "source": [
        "AOI = ee.Geometry.Point(14.321, 10.605)\n",
        "START_DATE = '2020-08-01'\n",
        "END_DATE = '2020-08-02'\n",
        "CLOUD_FILTER = 60\n",
        "CLD_PRB_THRESH = 50\n",
        "NIR_DRK_THRESH = 0.15\n",
        "CLD_PRJ_DIST = 1\n",
        "BUFFER = 50"
      ],
      "execution_count": null,
      "outputs": []
    },
    {
      "cell_type": "markdown",
      "metadata": {
        "id": "fV10qGkn_FlR"
      },
      "source": [
        "Define a function to filter the SR and s2cloudless collections according to area of interest and date parameters, then join them on the system:index property. The result is a copy of the SR collection where each image has a new 's2cloudless' property whose value is the corresponding s2cloudless image."
      ]
    },
    {
      "cell_type": "code",
      "metadata": {
        "id": "IcLoEbAc_rd6"
      },
      "source": [
        "def get_s2_sr_cld_col(aoi, start_date, end_date):\n",
        "    # Import and filter S2 SR.\n",
        "    s2_sr_col = (ee.ImageCollection('COPERNICUS/S2_SR')\n",
        "        .filterBounds(aoi)\n",
        "        .filterDate(start_date, end_date)\n",
        "        .filter(ee.Filter.lte('CLOUDY_PIXEL_PERCENTAGE', CLOUD_FILTER)))\n",
        "\n",
        "    # Import and filter s2cloudless.\n",
        "    s2_cloudless_col = (ee.ImageCollection('COPERNICUS/S2_CLOUD_PROBABILITY')\n",
        "        .filterBounds(aoi)\n",
        "        .filterDate(start_date, end_date))\n",
        "\n",
        "    # Join the filtered s2cloudless collection to the SR collection by the 'system:index' property.\n",
        "    return ee.ImageCollection(ee.Join.saveFirst('s2cloudless').apply(**{\n",
        "        'primary': s2_sr_col,\n",
        "        'secondary': s2_cloudless_col,\n",
        "        'condition': ee.Filter.equals(**{\n",
        "            'leftField': 'system:index',\n",
        "            'rightField': 'system:index'\n",
        "        })\n",
        "    }))"
      ],
      "execution_count": null,
      "outputs": []
    },
    {
      "cell_type": "markdown",
      "metadata": {
        "id": "o6FkkwGbBEb0"
      },
      "source": [
        "Apply the get_s2_sr_cld_col function to build a collection according to the parameters defined above"
      ]
    },
    {
      "cell_type": "code",
      "metadata": {
        "id": "QYKn671tBJta"
      },
      "source": [
        "s2_sr_cld_col_eval = get_s2_sr_cld_col(AOI, START_DATE, END_DATE)"
      ],
      "execution_count": null,
      "outputs": []
    },
    {
      "cell_type": "markdown",
      "metadata": {
        "id": "BhGnDeHaBNMT"
      },
      "source": [
        "# **Define cloud mask component functions**"
      ]
    },
    {
      "cell_type": "markdown",
      "metadata": {
        "id": "-6NG_EK7BdVT"
      },
      "source": [
        "**Cloud components**\n",
        "Define a function to add the s2cloudless probability layer and derived cloud mask as bands to an S2 SR image input."
      ]
    },
    {
      "cell_type": "code",
      "metadata": {
        "id": "ZKgn14U-BmN7"
      },
      "source": [
        "def add_cloud_bands(img):\n",
        "    # Get s2cloudless image, subset the probability band.\n",
        "    cld_prb = ee.Image(img.get('s2cloudless')).select('probability')\n",
        "\n",
        "    # Condition s2cloudless by the probability threshold value.\n",
        "    is_cloud = cld_prb.gt(CLD_PRB_THRESH).rename('clouds')\n",
        "\n",
        "    # Add the cloud probability layer and cloud mask as image bands.\n",
        "    return img.addBands(ee.Image([cld_prb, is_cloud]))"
      ],
      "execution_count": null,
      "outputs": []
    },
    {
      "cell_type": "markdown",
      "metadata": {
        "id": "XFfBolZwBqYy"
      },
      "source": [
        "**Cloud shadow components**\n",
        "Define a function to add dark pixels, cloud projection, and identified shadows as bands to an S2 SR image input. Note that the image input needs to be the result of the above add_cloud_bands function because it relies on knowing which pixels are considered cloudy ('clouds' band)."
      ]
    },
    {
      "cell_type": "code",
      "metadata": {
        "id": "vTeM-CHaBx7m"
      },
      "source": [
        "def add_shadow_bands(img):\n",
        "    # Identify water pixels from the SCL band.\n",
        "    not_water = img.select('SCL').neq(6)\n",
        "\n",
        "    # Identify dark NIR pixels that are not water (potential cloud shadow pixels).\n",
        "    SR_BAND_SCALE = 1e4\n",
        "    dark_pixels = img.select('B8').lt(NIR_DRK_THRESH*SR_BAND_SCALE).multiply(not_water).rename('dark_pixels')\n",
        "\n",
        "    # Determine the direction to project cloud shadow from clouds (assumes UTM projection).\n",
        "    shadow_azimuth = ee.Number(90).subtract(ee.Number(img.get('MEAN_SOLAR_AZIMUTH_ANGLE')));\n",
        "\n",
        "    # Project shadows from clouds for the distance specified by the CLD_PRJ_DIST input.\n",
        "    cld_proj = (img.select('clouds').directionalDistanceTransform(shadow_azimuth, CLD_PRJ_DIST*10)\n",
        "        .reproject(**{'crs': img.select(0).projection(), 'scale': 100})\n",
        "        .select('distance')\n",
        "        .mask()\n",
        "        .rename('cloud_transform'))\n",
        "\n",
        "    # Identify the intersection of dark pixels with cloud shadow projection.\n",
        "    shadows = cld_proj.multiply(dark_pixels).rename('shadows')\n",
        "\n",
        "    # Add dark pixels, cloud projection, and identified shadows as image bands.\n",
        "    return img.addBands(ee.Image([dark_pixels, cld_proj, shadows]))"
      ],
      "execution_count": null,
      "outputs": []
    },
    {
      "cell_type": "markdown",
      "metadata": {
        "id": "PVSOyXdBB2JE"
      },
      "source": [
        "Define a function to assemble all of the cloud and cloud shadow components and produce the final mask."
      ]
    },
    {
      "cell_type": "code",
      "metadata": {
        "id": "qisB7n1sB6sM"
      },
      "source": [
        "def add_cld_shdw_mask(img):\n",
        "    # Add cloud component bands.\n",
        "    img_cloud = add_cloud_bands(img)\n",
        "\n",
        "    # Add cloud shadow component bands.\n",
        "    img_cloud_shadow = add_shadow_bands(img_cloud)\n",
        "\n",
        "    # Combine cloud and shadow mask, set cloud and shadow as value 1, else 0.\n",
        "    is_cld_shdw = img_cloud_shadow.select('clouds').add(img_cloud_shadow.select('shadows')).gt(0)\n",
        "\n",
        "    # Remove small cloud-shadow patches and dilate remaining pixels by BUFFER input.\n",
        "    # 20 m scale is for speed, and assumes clouds don't require 10 m precision.\n",
        "    is_cld_shdw = (is_cld_shdw.focal_min(2).focal_max(BUFFER*2/20)\n",
        "        .reproject(**{'crs': img.select([0]).projection(), 'scale': 20})\n",
        "        .rename('cloudmask'))\n",
        "\n",
        "    # Add the final cloud-shadow mask to the image.\n",
        "    return img_cloud_shadow.addBands(is_cld_shdw)"
      ],
      "execution_count": null,
      "outputs": []
    },
    {
      "cell_type": "markdown",
      "metadata": {
        "id": "x-3yXbC_B996"
      },
      "source": [
        "**Define functions to display image and mask component layers.**\n",
        "Folium will be used to display map layers. Import folium and define a method to display Earth Engine image tiles."
      ]
    },
    {
      "cell_type": "code",
      "metadata": {
        "id": "2ksk35fmCLWC"
      },
      "source": [
        "# Import the folium library.\n",
        "import folium\n",
        "\n",
        "# Define a method for displaying Earth Engine image tiles to a folium map.\n",
        "def add_ee_layer(self, ee_image_object, vis_params, name, show=True, opacity=1, min_zoom=0):\n",
        "    map_id_dict = ee.Image(ee_image_object).getMapId(vis_params)\n",
        "    folium.raster_layers.TileLayer(\n",
        "        tiles=map_id_dict['tile_fetcher'].url_format,\n",
        "        attr='Map Data &copy; <a href=\"https://earthengine.google.com/\">Google Earth Engine</a>',\n",
        "        name=name,\n",
        "        show=show,\n",
        "        opacity=opacity,\n",
        "        min_zoom=min_zoom,\n",
        "        overlay=True,\n",
        "        control=True\n",
        "        ).add_to(self)\n",
        "\n",
        "# Add the Earth Engine layer method to folium.\n",
        "folium.Map.add_ee_layer = add_ee_layer"
      ],
      "execution_count": null,
      "outputs": []
    },
    {
      "cell_type": "markdown",
      "metadata": {
        "id": "Ep9KFEsxCSI9"
      },
      "source": [
        "Display all of the cloud and cloud shadow components to an interactive Folium map. The input is an image collection where each image is the result of the add_cld_shdw_mask function defined previously."
      ]
    },
    {
      "cell_type": "code",
      "metadata": {
        "id": "X4ffCz1YCbGD"
      },
      "source": [
        "def display_cloud_layers(col):\n",
        "    # Mosaic the image collection.\n",
        "    img = col.mosaic()\n",
        "\n",
        "    # Subset layers and prepare them for display.\n",
        "    clouds = img.select('clouds').selfMask()\n",
        "    shadows = img.select('shadows').selfMask()\n",
        "    dark_pixels = img.select('dark_pixels').selfMask()\n",
        "    probability = img.select('probability')\n",
        "    cloudmask = img.select('cloudmask').selfMask()\n",
        "    cloud_transform = img.select('cloud_transform')\n",
        "\n",
        "    # Create a folium map object.\n",
        "    center = AOI.centroid(10).coordinates().reverse().getInfo()\n",
        "    m = folium.Map(location=center, zoom_start=12)\n",
        "\n",
        "    # Add layers to the folium map.\n",
        "    m.add_ee_layer(img,\n",
        "                   {'bands': ['B4', 'B3', 'B2'], 'min': 0, 'max': 2500, 'gamma': 1.1},\n",
        "                   'S2 image', True, 1, 9)\n",
        "    m.add_ee_layer(probability,\n",
        "                   {'min': 0, 'max': 100},\n",
        "                   'probability (cloud)', False, 1, 9)\n",
        "    m.add_ee_layer(clouds,\n",
        "                   {'palette': 'e056fd'},\n",
        "                   'clouds', False, 1, 9)\n",
        "    m.add_ee_layer(cloud_transform,\n",
        "                   {'min': 0, 'max': 1, 'palette': ['white', 'black']},\n",
        "                   'cloud_transform', False, 1, 9)\n",
        "    m.add_ee_layer(dark_pixels,\n",
        "                   {'palette': 'orange'},\n",
        "                   'dark_pixels', False, 1, 9)\n",
        "    m.add_ee_layer(shadows, {'palette': 'yellow'},\n",
        "                   'shadows', False, 1, 9)\n",
        "    m.add_ee_layer(cloudmask, {'palette': 'orange'},\n",
        "                   'cloudmask', True, 0.5, 9)\n",
        "\n",
        "    # Add a layer control panel to the map.\n",
        "    m.add_child(folium.LayerControl())\n",
        "\n",
        "    # Display the map.\n",
        "    display(m)"
      ],
      "execution_count": null,
      "outputs": []
    },
    {
      "cell_type": "markdown",
      "metadata": {
        "id": "MpeufihBCeMr"
      },
      "source": [
        "# Display mask component layers\n",
        "Map the add_cld_shdw_mask function over the collection to add mask component bands to each image, then display the results."
      ]
    },
    {
      "cell_type": "code",
      "metadata": {
        "id": "j6cCH8H2CriV"
      },
      "source": [
        "s2_sr_cld_col_eval_disp = s2_sr_cld_col_eval.map(add_cld_shdw_mask)\n",
        "\n",
        "display_cloud_layers(s2_sr_cld_col_eval_disp)"
      ],
      "execution_count": null,
      "outputs": []
    },
    {
      "cell_type": "markdown",
      "metadata": {
        "id": "muIaqrBBC2IC"
      },
      "source": [
        "# **Image Gapfilling to obtain cloudless composite image**"
      ]
    },
    {
      "cell_type": "markdown",
      "metadata": {
        "id": "RcfzuTzXDazV"
      },
      "source": [
        "# Define collection filter and cloud mask parameters\n",
        "We'll redefine the parameters to be a little more aggressive, i.e. decrease the cloud probability threshold, increase the cloud projection distance, and increase the buffer. These changes will increase cloud commission error (mask out some clear pixels), but since we will be compositing images from three months, there should be plenty of observations to complete the mosaic."
      ]
    },
    {
      "cell_type": "code",
      "metadata": {
        "id": "7JUGA_TYDOJQ"
      },
      "source": [
        "AOI = ee.Geometry.Point(14.321, 10.605)\n",
        "START_DATE = '2020-05-01'\n",
        "END_DATE = '2020-12-02\n",
        "CLOUD_FILTER = 60\n",
        "CLD_PRB_THRESH = 40\n",
        "NIR_DRK_THRESH = 0.15\n",
        "CLD_PRJ_DIST = 2\n",
        "BUFFER = 100"
      ],
      "execution_count": null,
      "outputs": []
    },
    {
      "cell_type": "markdown",
      "metadata": {
        "id": "46-QETQPDmn0"
      },
      "source": [
        "# Build a Sentinel-2 collection\n",
        "Reassemble the S2-cloudless collection since the collection filter parameters have changed."
      ]
    },
    {
      "cell_type": "code",
      "metadata": {
        "id": "i3ngvHiADs-r"
      },
      "source": [
        "s2_sr_cld_col = get_s2_sr_cld_col(AOI, START_DATE, END_DATE)"
      ],
      "execution_count": null,
      "outputs": []
    },
    {
      "cell_type": "markdown",
      "metadata": {
        "id": "dgTDApmjDwnM"
      },
      "source": [
        "**Define a function to apply the cloud mask to each image in the collection.**"
      ]
    },
    {
      "cell_type": "code",
      "metadata": {
        "id": "07DBg_JDD3tT"
      },
      "source": [
        "def apply_cld_shdw_mask(img):\n",
        "    # Subset the cloudmask band and invert it so clouds/shadow are 0, else 1.\n",
        "    not_cld_shdw = img.select('cloudmask').Not()\n",
        "\n",
        "    # Subset reflectance bands and update their masks, return the result.\n",
        "    return img.select('B.*').updateMask(not_cld_shdw)"
      ],
      "execution_count": null,
      "outputs": []
    },
    {
      "cell_type": "markdown",
      "metadata": {
        "id": "55QLP2-RD7Xq"
      },
      "source": [
        "Add cloud and cloud shadow component bands to each image and then apply the mask to each image. Reduce the collection by median (in your application, you might consider using medoid reduction to build a composite from actual data values, instead of per-band statistics)."
      ]
    },
    {
      "cell_type": "code",
      "metadata": {
        "id": "5Bh7vjPdEAXK"
      },
      "source": [
        "s2_sr_median = (s2_sr_cld_col.map(add_cld_shdw_mask)\n",
        "                             .map(apply_cld_shdw_mask)\n",
        "                             .median())"
      ],
      "execution_count": null,
      "outputs": []
    },
    {
      "cell_type": "markdown",
      "metadata": {
        "id": "XTfQWP-sEEEy"
      },
      "source": [
        "**Display the cloud-free composite**\n",
        "Display the results. Be patient while the map renders, it may take a minute; ee.Image.reproject is forcing computations to happen at 100 and 20 m scales (i.e. it is not relying on appropriate pyramid level scales for analysis). The issues with ee.Image.reproject being resource-intensive in this case are mostly confined to interactive map viewing. Batch image exports and table reduction exports where the scale parameter is set to typical Sentinel-2 scales (10-60 m) are less affected."
      ]
    },
    {
      "cell_type": "code",
      "metadata": {
        "id": "2FXoAo_uET5m"
      },
      "source": [
        "# Create a folium map object.\n",
        "center = AOI.centroid(10).coordinates().reverse().getInfo()\n",
        "m = folium.Map(location=center, zoom_start=12)\n",
        "\n",
        "# Add layers to the folium map.\n",
        "m.add_ee_layer(s2_sr_median,\n",
        "                {'bands': ['B4', 'B3', 'B2'], 'min': 0, 'max': 2500, 'gamma': 1.1},\n",
        "                'S2 cloud-free mosaic', True, 1, 9)\n",
        "\n",
        "# Add a layer control panel to the map.\n",
        "m.add_child(folium.LayerControl())\n",
        "\n",
        "# Display the map.\n",
        "display(m)"
      ],
      "execution_count": null,
      "outputs": []
    },
    {
      "cell_type": "markdown",
      "metadata": {
        "id": "Io19CGi-EYK_"
      },
      "source": [
        "# END"
      ]
    }
  ]
}